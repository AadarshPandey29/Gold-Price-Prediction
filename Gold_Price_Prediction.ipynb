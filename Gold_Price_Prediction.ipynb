{
  "nbformat": 4,
  "nbformat_minor": 0,
  "metadata": {
    "colab": {
      "provenance": [],
      "mount_file_id": "1FE87t6Y6gvz1YavTRNLahKFc6AQwXqEn",
      "authorship_tag": "ABX9TyO8gOKa1ZHXgb+8pPUtGEMJ",
      "include_colab_link": true
    },
    "kernelspec": {
      "name": "python3",
      "display_name": "Python 3"
    },
    "language_info": {
      "name": "python"
    }
  },
  "cells": [
    {
      "cell_type": "markdown",
      "metadata": {
        "id": "view-in-github",
        "colab_type": "text"
      },
      "source": [
        "<a href=\"https://colab.research.google.com/github/AadarshPandey29/Gold-Price-Prediction/blob/main/Gold_Price_Prediction.ipynb\" target=\"_parent\"><img src=\"https://colab.research.google.com/assets/colab-badge.svg\" alt=\"Open In Colab\"/></a>"
      ]
    },
    {
      "cell_type": "markdown",
      "source": [
        "**Importing important libraries.**"
      ],
      "metadata": {
        "id": "cbIlvM78nsCO"
      }
    },
    {
      "cell_type": "code",
      "execution_count": 1,
      "metadata": {
        "id": "kbmL01UMnXgj"
      },
      "outputs": [],
      "source": [
        "import numpy as np\n",
        "import pandas as pd\n",
        "import seaborn as sns\n",
        "from sklearn import metrics\n",
        "import matplotlib.pyplot as plt\n",
        "from sklearn.model_selection import train_test_split\n",
        "from sklearn.ensemble import RandomForestRegressor"
      ]
    },
    {
      "cell_type": "code",
      "source": [
        "# Loading the dataset into pandas dataframe\n",
        "gld_data = pd.read_csv(\"/content/drive/MyDrive/Datasets/gld_price_data.csv\")"
      ],
      "metadata": {
        "id": "qXwK9x5lohi-"
      },
      "execution_count": 2,
      "outputs": []
    },
    {
      "cell_type": "code",
      "source": [
        "# Getting the gist of our data by getting the 1st 5 rows of the data\n",
        "gld_data.head()"
      ],
      "metadata": {
        "colab": {
          "base_uri": "https://localhost:8080/",
          "height": 206
        },
        "id": "uMBccu3epzZm",
        "outputId": "c5e69b91-5814-436f-916e-9e4dda4f9c6b"
      },
      "execution_count": 3,
      "outputs": [
        {
          "output_type": "execute_result",
          "data": {
            "text/plain": [
              "       Date          SPX        GLD        USO     SLV   EUR/USD\n",
              "0  1/2/2008  1447.160034  84.860001  78.470001  15.180  1.471692\n",
              "1  1/3/2008  1447.160034  85.570000  78.370003  15.285  1.474491\n",
              "2  1/4/2008  1411.630005  85.129997  77.309998  15.167  1.475492\n",
              "3  1/7/2008  1416.180054  84.769997  75.500000  15.053  1.468299\n",
              "4  1/8/2008  1390.189941  86.779999  76.059998  15.590  1.557099"
            ],
            "text/html": [
              "\n",
              "  <div id=\"df-7287b261-7bc7-481c-a874-66dde44e5ad0\">\n",
              "    <div class=\"colab-df-container\">\n",
              "      <div>\n",
              "<style scoped>\n",
              "    .dataframe tbody tr th:only-of-type {\n",
              "        vertical-align: middle;\n",
              "    }\n",
              "\n",
              "    .dataframe tbody tr th {\n",
              "        vertical-align: top;\n",
              "    }\n",
              "\n",
              "    .dataframe thead th {\n",
              "        text-align: right;\n",
              "    }\n",
              "</style>\n",
              "<table border=\"1\" class=\"dataframe\">\n",
              "  <thead>\n",
              "    <tr style=\"text-align: right;\">\n",
              "      <th></th>\n",
              "      <th>Date</th>\n",
              "      <th>SPX</th>\n",
              "      <th>GLD</th>\n",
              "      <th>USO</th>\n",
              "      <th>SLV</th>\n",
              "      <th>EUR/USD</th>\n",
              "    </tr>\n",
              "  </thead>\n",
              "  <tbody>\n",
              "    <tr>\n",
              "      <th>0</th>\n",
              "      <td>1/2/2008</td>\n",
              "      <td>1447.160034</td>\n",
              "      <td>84.860001</td>\n",
              "      <td>78.470001</td>\n",
              "      <td>15.180</td>\n",
              "      <td>1.471692</td>\n",
              "    </tr>\n",
              "    <tr>\n",
              "      <th>1</th>\n",
              "      <td>1/3/2008</td>\n",
              "      <td>1447.160034</td>\n",
              "      <td>85.570000</td>\n",
              "      <td>78.370003</td>\n",
              "      <td>15.285</td>\n",
              "      <td>1.474491</td>\n",
              "    </tr>\n",
              "    <tr>\n",
              "      <th>2</th>\n",
              "      <td>1/4/2008</td>\n",
              "      <td>1411.630005</td>\n",
              "      <td>85.129997</td>\n",
              "      <td>77.309998</td>\n",
              "      <td>15.167</td>\n",
              "      <td>1.475492</td>\n",
              "    </tr>\n",
              "    <tr>\n",
              "      <th>3</th>\n",
              "      <td>1/7/2008</td>\n",
              "      <td>1416.180054</td>\n",
              "      <td>84.769997</td>\n",
              "      <td>75.500000</td>\n",
              "      <td>15.053</td>\n",
              "      <td>1.468299</td>\n",
              "    </tr>\n",
              "    <tr>\n",
              "      <th>4</th>\n",
              "      <td>1/8/2008</td>\n",
              "      <td>1390.189941</td>\n",
              "      <td>86.779999</td>\n",
              "      <td>76.059998</td>\n",
              "      <td>15.590</td>\n",
              "      <td>1.557099</td>\n",
              "    </tr>\n",
              "  </tbody>\n",
              "</table>\n",
              "</div>\n",
              "      <button class=\"colab-df-convert\" onclick=\"convertToInteractive('df-7287b261-7bc7-481c-a874-66dde44e5ad0')\"\n",
              "              title=\"Convert this dataframe to an interactive table.\"\n",
              "              style=\"display:none;\">\n",
              "        \n",
              "  <svg xmlns=\"http://www.w3.org/2000/svg\" height=\"24px\"viewBox=\"0 0 24 24\"\n",
              "       width=\"24px\">\n",
              "    <path d=\"M0 0h24v24H0V0z\" fill=\"none\"/>\n",
              "    <path d=\"M18.56 5.44l.94 2.06.94-2.06 2.06-.94-2.06-.94-.94-2.06-.94 2.06-2.06.94zm-11 1L8.5 8.5l.94-2.06 2.06-.94-2.06-.94L8.5 2.5l-.94 2.06-2.06.94zm10 10l.94 2.06.94-2.06 2.06-.94-2.06-.94-.94-2.06-.94 2.06-2.06.94z\"/><path d=\"M17.41 7.96l-1.37-1.37c-.4-.4-.92-.59-1.43-.59-.52 0-1.04.2-1.43.59L10.3 9.45l-7.72 7.72c-.78.78-.78 2.05 0 2.83L4 21.41c.39.39.9.59 1.41.59.51 0 1.02-.2 1.41-.59l7.78-7.78 2.81-2.81c.8-.78.8-2.07 0-2.86zM5.41 20L4 18.59l7.72-7.72 1.47 1.35L5.41 20z\"/>\n",
              "  </svg>\n",
              "      </button>\n",
              "      \n",
              "  <style>\n",
              "    .colab-df-container {\n",
              "      display:flex;\n",
              "      flex-wrap:wrap;\n",
              "      gap: 12px;\n",
              "    }\n",
              "\n",
              "    .colab-df-convert {\n",
              "      background-color: #E8F0FE;\n",
              "      border: none;\n",
              "      border-radius: 50%;\n",
              "      cursor: pointer;\n",
              "      display: none;\n",
              "      fill: #1967D2;\n",
              "      height: 32px;\n",
              "      padding: 0 0 0 0;\n",
              "      width: 32px;\n",
              "    }\n",
              "\n",
              "    .colab-df-convert:hover {\n",
              "      background-color: #E2EBFA;\n",
              "      box-shadow: 0px 1px 2px rgba(60, 64, 67, 0.3), 0px 1px 3px 1px rgba(60, 64, 67, 0.15);\n",
              "      fill: #174EA6;\n",
              "    }\n",
              "\n",
              "    [theme=dark] .colab-df-convert {\n",
              "      background-color: #3B4455;\n",
              "      fill: #D2E3FC;\n",
              "    }\n",
              "\n",
              "    [theme=dark] .colab-df-convert:hover {\n",
              "      background-color: #434B5C;\n",
              "      box-shadow: 0px 1px 3px 1px rgba(0, 0, 0, 0.15);\n",
              "      filter: drop-shadow(0px 1px 2px rgba(0, 0, 0, 0.3));\n",
              "      fill: #FFFFFF;\n",
              "    }\n",
              "  </style>\n",
              "\n",
              "      <script>\n",
              "        const buttonEl =\n",
              "          document.querySelector('#df-7287b261-7bc7-481c-a874-66dde44e5ad0 button.colab-df-convert');\n",
              "        buttonEl.style.display =\n",
              "          google.colab.kernel.accessAllowed ? 'block' : 'none';\n",
              "\n",
              "        async function convertToInteractive(key) {\n",
              "          const element = document.querySelector('#df-7287b261-7bc7-481c-a874-66dde44e5ad0');\n",
              "          const dataTable =\n",
              "            await google.colab.kernel.invokeFunction('convertToInteractive',\n",
              "                                                     [key], {});\n",
              "          if (!dataTable) return;\n",
              "\n",
              "          const docLinkHtml = 'Like what you see? Visit the ' +\n",
              "            '<a target=\"_blank\" href=https://colab.research.google.com/notebooks/data_table.ipynb>data table notebook</a>'\n",
              "            + ' to learn more about interactive tables.';\n",
              "          element.innerHTML = '';\n",
              "          dataTable['output_type'] = 'display_data';\n",
              "          await google.colab.output.renderOutput(dataTable, element);\n",
              "          const docLink = document.createElement('div');\n",
              "          docLink.innerHTML = docLinkHtml;\n",
              "          element.appendChild(docLink);\n",
              "        }\n",
              "      </script>\n",
              "    </div>\n",
              "  </div>\n",
              "  "
            ]
          },
          "metadata": {},
          "execution_count": 3
        }
      ]
    },
    {
      "cell_type": "code",
      "source": [
        "# Getting the number of rows and columns in the data\n",
        "gld_data.shape"
      ],
      "metadata": {
        "colab": {
          "base_uri": "https://localhost:8080/"
        },
        "id": "kmWTdL0Ap9XQ",
        "outputId": "ba2ab5bf-bc23-4c3e-912b-e7370cb1c897"
      },
      "execution_count": 4,
      "outputs": [
        {
          "output_type": "execute_result",
          "data": {
            "text/plain": [
              "(2290, 6)"
            ]
          },
          "metadata": {},
          "execution_count": 4
        }
      ]
    },
    {
      "cell_type": "code",
      "source": [
        "# Checking for the null values in the dataset\n",
        "gld_data.isnull().sum()"
      ],
      "metadata": {
        "colab": {
          "base_uri": "https://localhost:8080/"
        },
        "id": "A6kUps2LqGOv",
        "outputId": "9fba3796-4ec0-47cd-fa27-da53c241696a"
      },
      "execution_count": 5,
      "outputs": [
        {
          "output_type": "execute_result",
          "data": {
            "text/plain": [
              "Date       0\n",
              "SPX        0\n",
              "GLD        0\n",
              "USO        0\n",
              "SLV        0\n",
              "EUR/USD    0\n",
              "dtype: int64"
            ]
          },
          "metadata": {},
          "execution_count": 5
        }
      ]
    },
    {
      "cell_type": "markdown",
      "source": [
        "As there is no null values present in our dataset, it makes our work alot easier."
      ],
      "metadata": {
        "id": "K-ZkPWxfqQ8h"
      }
    },
    {
      "cell_type": "code",
      "source": [
        "# Getting the info of the dataset\n",
        "gld_data.info()"
      ],
      "metadata": {
        "colab": {
          "base_uri": "https://localhost:8080/"
        },
        "id": "8cE7aZGDq3IL",
        "outputId": "4a0c6f0a-cf06-4859-ca9c-ce37c2f162ac"
      },
      "execution_count": 8,
      "outputs": [
        {
          "output_type": "stream",
          "name": "stdout",
          "text": [
            "<class 'pandas.core.frame.DataFrame'>\n",
            "RangeIndex: 2290 entries, 0 to 2289\n",
            "Data columns (total 6 columns):\n",
            " #   Column   Non-Null Count  Dtype  \n",
            "---  ------   --------------  -----  \n",
            " 0   Date     2290 non-null   object \n",
            " 1   SPX      2290 non-null   float64\n",
            " 2   GLD      2290 non-null   float64\n",
            " 3   USO      2290 non-null   float64\n",
            " 4   SLV      2290 non-null   float64\n",
            " 5   EUR/USD  2290 non-null   float64\n",
            "dtypes: float64(5), object(1)\n",
            "memory usage: 107.5+ KB\n"
          ]
        }
      ]
    },
    {
      "cell_type": "markdown",
      "source": [
        "**Data Analysis**"
      ],
      "metadata": {
        "id": "XkNNiBFdqsoh"
      }
    },
    {
      "cell_type": "code",
      "source": [
        "# Getting the statistical values of our data\n",
        "gld_data.describe()"
      ],
      "metadata": {
        "colab": {
          "base_uri": "https://localhost:8080/",
          "height": 300
        },
        "id": "l09VU6MZqPZj",
        "outputId": "cdc1146d-4fa1-4303-86ea-e28d280953dc"
      },
      "execution_count": 7,
      "outputs": [
        {
          "output_type": "execute_result",
          "data": {
            "text/plain": [
              "               SPX          GLD          USO          SLV      EUR/USD\n",
              "count  2290.000000  2290.000000  2290.000000  2290.000000  2290.000000\n",
              "mean   1654.315776   122.732875    31.842221    20.084997     1.283653\n",
              "std     519.111540    23.283346    19.523517     7.092566     0.131547\n",
              "min     676.530029    70.000000     7.960000     8.850000     1.039047\n",
              "25%    1239.874969   109.725000    14.380000    15.570000     1.171313\n",
              "50%    1551.434998   120.580002    33.869999    17.268500     1.303297\n",
              "75%    2073.010070   132.840004    37.827501    22.882500     1.369971\n",
              "max    2872.870117   184.589996   117.480003    47.259998     1.598798"
            ],
            "text/html": [
              "\n",
              "  <div id=\"df-614b7011-597b-4368-924a-d841c8334b62\">\n",
              "    <div class=\"colab-df-container\">\n",
              "      <div>\n",
              "<style scoped>\n",
              "    .dataframe tbody tr th:only-of-type {\n",
              "        vertical-align: middle;\n",
              "    }\n",
              "\n",
              "    .dataframe tbody tr th {\n",
              "        vertical-align: top;\n",
              "    }\n",
              "\n",
              "    .dataframe thead th {\n",
              "        text-align: right;\n",
              "    }\n",
              "</style>\n",
              "<table border=\"1\" class=\"dataframe\">\n",
              "  <thead>\n",
              "    <tr style=\"text-align: right;\">\n",
              "      <th></th>\n",
              "      <th>SPX</th>\n",
              "      <th>GLD</th>\n",
              "      <th>USO</th>\n",
              "      <th>SLV</th>\n",
              "      <th>EUR/USD</th>\n",
              "    </tr>\n",
              "  </thead>\n",
              "  <tbody>\n",
              "    <tr>\n",
              "      <th>count</th>\n",
              "      <td>2290.000000</td>\n",
              "      <td>2290.000000</td>\n",
              "      <td>2290.000000</td>\n",
              "      <td>2290.000000</td>\n",
              "      <td>2290.000000</td>\n",
              "    </tr>\n",
              "    <tr>\n",
              "      <th>mean</th>\n",
              "      <td>1654.315776</td>\n",
              "      <td>122.732875</td>\n",
              "      <td>31.842221</td>\n",
              "      <td>20.084997</td>\n",
              "      <td>1.283653</td>\n",
              "    </tr>\n",
              "    <tr>\n",
              "      <th>std</th>\n",
              "      <td>519.111540</td>\n",
              "      <td>23.283346</td>\n",
              "      <td>19.523517</td>\n",
              "      <td>7.092566</td>\n",
              "      <td>0.131547</td>\n",
              "    </tr>\n",
              "    <tr>\n",
              "      <th>min</th>\n",
              "      <td>676.530029</td>\n",
              "      <td>70.000000</td>\n",
              "      <td>7.960000</td>\n",
              "      <td>8.850000</td>\n",
              "      <td>1.039047</td>\n",
              "    </tr>\n",
              "    <tr>\n",
              "      <th>25%</th>\n",
              "      <td>1239.874969</td>\n",
              "      <td>109.725000</td>\n",
              "      <td>14.380000</td>\n",
              "      <td>15.570000</td>\n",
              "      <td>1.171313</td>\n",
              "    </tr>\n",
              "    <tr>\n",
              "      <th>50%</th>\n",
              "      <td>1551.434998</td>\n",
              "      <td>120.580002</td>\n",
              "      <td>33.869999</td>\n",
              "      <td>17.268500</td>\n",
              "      <td>1.303297</td>\n",
              "    </tr>\n",
              "    <tr>\n",
              "      <th>75%</th>\n",
              "      <td>2073.010070</td>\n",
              "      <td>132.840004</td>\n",
              "      <td>37.827501</td>\n",
              "      <td>22.882500</td>\n",
              "      <td>1.369971</td>\n",
              "    </tr>\n",
              "    <tr>\n",
              "      <th>max</th>\n",
              "      <td>2872.870117</td>\n",
              "      <td>184.589996</td>\n",
              "      <td>117.480003</td>\n",
              "      <td>47.259998</td>\n",
              "      <td>1.598798</td>\n",
              "    </tr>\n",
              "  </tbody>\n",
              "</table>\n",
              "</div>\n",
              "      <button class=\"colab-df-convert\" onclick=\"convertToInteractive('df-614b7011-597b-4368-924a-d841c8334b62')\"\n",
              "              title=\"Convert this dataframe to an interactive table.\"\n",
              "              style=\"display:none;\">\n",
              "        \n",
              "  <svg xmlns=\"http://www.w3.org/2000/svg\" height=\"24px\"viewBox=\"0 0 24 24\"\n",
              "       width=\"24px\">\n",
              "    <path d=\"M0 0h24v24H0V0z\" fill=\"none\"/>\n",
              "    <path d=\"M18.56 5.44l.94 2.06.94-2.06 2.06-.94-2.06-.94-.94-2.06-.94 2.06-2.06.94zm-11 1L8.5 8.5l.94-2.06 2.06-.94-2.06-.94L8.5 2.5l-.94 2.06-2.06.94zm10 10l.94 2.06.94-2.06 2.06-.94-2.06-.94-.94-2.06-.94 2.06-2.06.94z\"/><path d=\"M17.41 7.96l-1.37-1.37c-.4-.4-.92-.59-1.43-.59-.52 0-1.04.2-1.43.59L10.3 9.45l-7.72 7.72c-.78.78-.78 2.05 0 2.83L4 21.41c.39.39.9.59 1.41.59.51 0 1.02-.2 1.41-.59l7.78-7.78 2.81-2.81c.8-.78.8-2.07 0-2.86zM5.41 20L4 18.59l7.72-7.72 1.47 1.35L5.41 20z\"/>\n",
              "  </svg>\n",
              "      </button>\n",
              "      \n",
              "  <style>\n",
              "    .colab-df-container {\n",
              "      display:flex;\n",
              "      flex-wrap:wrap;\n",
              "      gap: 12px;\n",
              "    }\n",
              "\n",
              "    .colab-df-convert {\n",
              "      background-color: #E8F0FE;\n",
              "      border: none;\n",
              "      border-radius: 50%;\n",
              "      cursor: pointer;\n",
              "      display: none;\n",
              "      fill: #1967D2;\n",
              "      height: 32px;\n",
              "      padding: 0 0 0 0;\n",
              "      width: 32px;\n",
              "    }\n",
              "\n",
              "    .colab-df-convert:hover {\n",
              "      background-color: #E2EBFA;\n",
              "      box-shadow: 0px 1px 2px rgba(60, 64, 67, 0.3), 0px 1px 3px 1px rgba(60, 64, 67, 0.15);\n",
              "      fill: #174EA6;\n",
              "    }\n",
              "\n",
              "    [theme=dark] .colab-df-convert {\n",
              "      background-color: #3B4455;\n",
              "      fill: #D2E3FC;\n",
              "    }\n",
              "\n",
              "    [theme=dark] .colab-df-convert:hover {\n",
              "      background-color: #434B5C;\n",
              "      box-shadow: 0px 1px 3px 1px rgba(0, 0, 0, 0.15);\n",
              "      filter: drop-shadow(0px 1px 2px rgba(0, 0, 0, 0.3));\n",
              "      fill: #FFFFFF;\n",
              "    }\n",
              "  </style>\n",
              "\n",
              "      <script>\n",
              "        const buttonEl =\n",
              "          document.querySelector('#df-614b7011-597b-4368-924a-d841c8334b62 button.colab-df-convert');\n",
              "        buttonEl.style.display =\n",
              "          google.colab.kernel.accessAllowed ? 'block' : 'none';\n",
              "\n",
              "        async function convertToInteractive(key) {\n",
              "          const element = document.querySelector('#df-614b7011-597b-4368-924a-d841c8334b62');\n",
              "          const dataTable =\n",
              "            await google.colab.kernel.invokeFunction('convertToInteractive',\n",
              "                                                     [key], {});\n",
              "          if (!dataTable) return;\n",
              "\n",
              "          const docLinkHtml = 'Like what you see? Visit the ' +\n",
              "            '<a target=\"_blank\" href=https://colab.research.google.com/notebooks/data_table.ipynb>data table notebook</a>'\n",
              "            + ' to learn more about interactive tables.';\n",
              "          element.innerHTML = '';\n",
              "          dataTable['output_type'] = 'display_data';\n",
              "          await google.colab.output.renderOutput(dataTable, element);\n",
              "          const docLink = document.createElement('div');\n",
              "          docLink.innerHTML = docLinkHtml;\n",
              "          element.appendChild(docLink);\n",
              "        }\n",
              "      </script>\n",
              "    </div>\n",
              "  </div>\n",
              "  "
            ]
          },
          "metadata": {},
          "execution_count": 7
        }
      ]
    },
    {
      "cell_type": "markdown",
      "source": [
        "**Correlation**"
      ],
      "metadata": {
        "id": "2IqlcO_rq_ge"
      }
    },
    {
      "cell_type": "code",
      "source": [
        "correlation = gld_data.corr()"
      ],
      "metadata": {
        "id": "VfG-U_NVqfhE"
      },
      "execution_count": 9,
      "outputs": []
    },
    {
      "cell_type": "code",
      "source": [
        "# Constructing the heatmap to understand the correlation\n",
        "plt.figure(figsize = (10,10))\n",
        "sns.heatmap(correlation, cbar = True, square = True, fmt = '.1f', annot = True, annot_kws = {'size':8}, cmap = 'Blues')\n",
        "plt.show()"
      ],
      "metadata": {
        "colab": {
          "base_uri": "https://localhost:8080/",
          "height": 578
        },
        "id": "bFbrHD6KrGZ9",
        "outputId": "b91f0539-66d8-4bb4-8e00-7a011ef60eb6"
      },
      "execution_count": 14,
      "outputs": [
        {
          "output_type": "display_data",
          "data": {
            "text/plain": [
              "<Figure size 720x720 with 2 Axes>"
            ],
            "image/png": "[encoded data removed]"
          },
          "metadata": {
            "needs_background": "light"
          }
        }
      ]
    },
    {
      "cell_type": "code",
      "source": [
        "# Correlation values of GLD\n",
        "print(correlation['GLD'])"
      ],
      "metadata": {
        "colab": {
          "base_uri": "https://localhost:8080/"
        },
        "id": "uB1d-45BrlCl",
        "outputId": "ab02d8d6-eda7-42df-8e63-0a0f3df7b428"
      },
      "execution_count": 15,
      "outputs": [
        {
          "output_type": "stream",
          "name": "stdout",
          "text": [
            "SPX        0.049345\n",
            "GLD        1.000000\n",
            "USO       -0.186360\n",
            "SLV        0.866632\n",
            "EUR/USD   -0.024375\n",
            "Name: GLD, dtype: float64\n"
          ]
        }
      ]
    },
    {
      "cell_type": "code",
      "source": [
        "# Check the distribution of the gold price\n",
        "sns.distplot(gld_data['GLD'], color = 'Green')"
      ],
      "metadata": {
        "colab": {
          "base_uri": "https://localhost:8080/",
          "height": 355
        },
        "id": "A7rET4Yar_EL",
        "outputId": "027a283f-a279-4c39-ab4b-e2782bf1ae0a"
      },
      "execution_count": 19,
      "outputs": [
        {
          "output_type": "stream",
          "name": "stderr",
          "text": [
            "/usr/local/lib/python3.7/dist-packages/seaborn/distributions.py:2619: FutureWarning: `distplot` is a deprecated function and will be removed in a future version. Please adapt your code to use either `displot` (a figure-level function with similar flexibility) or `histplot` (an axes-level function for histograms).\n",
            "  warnings.warn(msg, FutureWarning)\n"
          ]
        },
        {
          "output_type": "execute_result",
          "data": {
            "text/plain": [
              "<matplotlib.axes._subplots.AxesSubplot at 0x7f130682a690>"
            ]
          },
          "metadata": {},
          "execution_count": 19
        },
        {
          "output_type": "display_data",
          "data": {
            "text/plain": [
              "<Figure size 432x288 with 1 Axes>"
            ],
            "image/png": "[encoded data removed]"
          },
          "metadata": {
            "needs_background": "light"
          }
        }
      ]
    },
    {
      "cell_type": "markdown",
      "source": [
        "**Splitting of the data**"
      ],
      "metadata": {
        "id": "mdCn3_Mqsj5O"
      }
    },
    {
      "cell_type": "code",
      "source": [
        "X = gld_data.drop(['Date', 'GLD'], axis = 1)\n",
        "Y = gld_data['GLD']"
      ],
      "metadata": {
        "id": "B9w2dR_esNja"
      },
      "execution_count": 20,
      "outputs": []
    },
    {
      "cell_type": "code",
      "source": [
        "print(X)"
      ],
      "metadata": {
        "colab": {
          "base_uri": "https://localhost:8080/"
        },
        "id": "A6wW0OKitEre",
        "outputId": "f91a14d7-5e70-4e68-bb05-0b605649cd15"
      },
      "execution_count": 21,
      "outputs": [
        {
          "output_type": "stream",
          "name": "stdout",
          "text": [
            "              SPX        USO      SLV   EUR/USD\n",
            "0     1447.160034  78.470001  15.1800  1.471692\n",
            "1     1447.160034  78.370003  15.2850  1.474491\n",
            "2     1411.630005  77.309998  15.1670  1.475492\n",
            "3     1416.180054  75.500000  15.0530  1.468299\n",
            "4     1390.189941  76.059998  15.5900  1.557099\n",
            "...           ...        ...      ...       ...\n",
            "2285  2671.919922  14.060000  15.5100  1.186789\n",
            "2286  2697.790039  14.370000  15.5300  1.184722\n",
            "2287  2723.070068  14.410000  15.7400  1.191753\n",
            "2288  2730.129883  14.380000  15.5600  1.193118\n",
            "2289  2725.780029  14.405800  15.4542  1.182033\n",
            "\n",
            "[2290 rows x 4 columns]\n"
          ]
        }
      ]
    },
    {
      "cell_type": "code",
      "source": [
        "print(Y)"
      ],
      "metadata": {
        "colab": {
          "base_uri": "https://localhost:8080/"
        },
        "id": "oj0Nf4_YtIf_",
        "outputId": "94c64639-0c29-4e4f-acaa-6865541fde54"
      },
      "execution_count": 22,
      "outputs": [
        {
          "output_type": "stream",
          "name": "stdout",
          "text": [
            "0        84.860001\n",
            "1        85.570000\n",
            "2        85.129997\n",
            "3        84.769997\n",
            "4        86.779999\n",
            "           ...    \n",
            "2285    124.589996\n",
            "2286    124.330002\n",
            "2287    125.180000\n",
            "2288    124.489998\n",
            "2289    122.543800\n",
            "Name: GLD, Length: 2290, dtype: float64\n"
          ]
        }
      ]
    },
    {
      "cell_type": "code",
      "source": [
        "# Splitting the Train data and the Test data\n",
        "X_train, X_test, Y_train, Y_test = train_test_split(X,Y, test_size = 0.2, random_state = 2)"
      ],
      "metadata": {
        "id": "bRYeZYddtJfD"
      },
      "execution_count": 23,
      "outputs": []
    },
    {
      "cell_type": "markdown",
      "source": [
        "**Model Training**"
      ],
      "metadata": {
        "id": "yijQSwyHtq91"
      }
    },
    {
      "cell_type": "markdown",
      "source": [
        "**Random Forest Regressor**"
      ],
      "metadata": {
        "id": "vcPdn3Ttt2Q4"
      }
    },
    {
      "cell_type": "code",
      "source": [
        "reg = RandomForestRegressor()"
      ],
      "metadata": {
        "id": "FawjfnNKtp-_"
      },
      "execution_count": 24,
      "outputs": []
    },
    {
      "cell_type": "code",
      "source": [
        "# Training the Model\n",
        "reg.fit(X_train, Y_train)"
      ],
      "metadata": {
        "colab": {
          "base_uri": "https://localhost:8080/"
        },
        "id": "G24xaNHbt-Wc",
        "outputId": "c829e7e8-ced0-4310-98b7-7d88b4e3a746"
      },
      "execution_count": 26,
      "outputs": [
        {
          "output_type": "execute_result",
          "data": {
            "text/plain": [
              "RandomForestRegressor()"
            ]
          },
          "metadata": {},
          "execution_count": 26
        }
      ]
    },
    {
      "cell_type": "markdown",
      "source": [
        "**Model Evaluation**"
      ],
      "metadata": {
        "id": "LidLjImsuMQG"
      }
    },
    {
      "cell_type": "code",
      "source": [
        "# Prediction on the Train Data\n",
        "train_data_prediction = reg.predict(X_train)"
      ],
      "metadata": {
        "id": "uU8knEXjuD4c"
      },
      "execution_count": 27,
      "outputs": []
    },
    {
      "cell_type": "code",
      "source": [
        "print(train_data_prediction)"
      ],
      "metadata": {
        "colab": {
          "base_uri": "https://localhost:8080/"
        },
        "id": "lDkUC_8WucK7",
        "outputId": "1ae139b8-e4ed-4c60-97ee-e1a8d9c04be3"
      },
      "execution_count": 28,
      "outputs": [
        {
          "output_type": "stream",
          "name": "stdout",
          "text": [
            "[110.01609767 114.6062008   90.62500021 ... 130.539497   159.69799604\n",
            " 114.61579997]\n"
          ]
        }
      ]
    },
    {
      "cell_type": "code",
      "source": [
        "# Prediction on the Test Data\n",
        "test_data_prediction = reg.predict(X_test)"
      ],
      "metadata": {
        "id": "ar398zI2uegE"
      },
      "execution_count": 29,
      "outputs": []
    },
    {
      "cell_type": "code",
      "source": [
        "print(test_data_prediction)"
      ],
      "metadata": {
        "colab": {
          "base_uri": "https://localhost:8080/"
        },
        "id": "jMkJelt_uo9x",
        "outputId": "775e8ea7-3825-47b0-adeb-3976dbb44c9d"
      },
      "execution_count": 30,
      "outputs": [
        {
          "output_type": "stream",
          "name": "stdout",
          "text": [
            "[168.69929944  81.91399991 116.39220031 127.67130079 120.79740167\n",
            " 154.73119748 150.64989803 126.24349975 117.48069875 126.04360044\n",
            " 116.61230125 171.85840102 141.79559833 167.85539842 115.15790041\n",
            " 117.47690063 137.88410402 170.13540074 159.68300251 159.3469993\n",
            " 155.23590052 125.6904001  175.86589947 157.20070329 125.26890048\n",
            "  93.69099976  76.93930037 120.79840004 119.16679961 167.52290004\n",
            "  88.16510066 125.28369999  91.15220091 117.83730002 121.12199907\n",
            " 136.17420094 115.6436015  115.36060077 148.59519942 107.18630121\n",
            " 104.49930221  87.15139798 126.39720067 117.69740007 153.27159932\n",
            " 119.72809985 108.35999983 108.01659843  93.22310037 127.07189808\n",
            "  74.92520029 113.74139942 121.40950011 111.20969901 118.77169896\n",
            " 120.50479957 159.48270116 167.09970151 146.88869629  86.1680988\n",
            "  94.34710029  86.78759851  90.24750038 119.0213006  126.43000055\n",
            " 127.54149999 168.0338995  122.36509927 117.18869907  98.34920057\n",
            " 167.55920048 142.81199775 132.36190237 121.25600178 120.73309961\n",
            " 119.65320067 114.54740177 118.17610064 107.04690095 127.90640123\n",
            " 114.29719953 107.84490001 116.8665006  119.63139885  89.04520071\n",
            "  88.1307986  146.53780225 127.2195006  113.72680015 110.15749812\n",
            " 108.26469877  77.21769943 170.02550257 113.91599897 121.55709937\n",
            " 127.85340219 154.90589825  91.67149911 135.88550173 158.9199035\n",
            " 125.14070106 125.28600075 130.83220186 114.83180144 119.69540005\n",
            "  92.11379992 110.48459895 166.74609951 157.00439865 114.16909938\n",
            " 106.74690133  79.47179975 113.27890018 125.92880087 107.02169932\n",
            " 119.25270069 156.24190378 159.36599878 120.26199999 134.41970294\n",
            " 101.28900008 117.53929821 119.32770023 112.91540078 102.76829929\n",
            " 160.4485986   98.97680013 147.94429906 125.66450127 169.35329884\n",
            " 125.97509834 127.34619789 127.35420161 113.78469949 112.72890107\n",
            " 123.50639922 102.12639916  89.13179988 124.7741995  101.56169937\n",
            " 107.11279885 113.46580059 117.16340088  99.36769951 121.65640063\n",
            " 162.84639945  87.36709882 106.77909966 117.17030082 127.73150123\n",
            " 124.07300058  80.6750991  120.59890062 157.58179858  87.99479948\n",
            " 110.05339974 118.93729904 172.6073992  102.99639877 105.27890068\n",
            " 122.64510034 158.36779751  87.71849828  93.11560019 112.7714004\n",
            " 177.80989963 114.44579985 119.3053002   94.84470095 125.75000029\n",
            " 166.18540111 114.80360086 116.73620121  88.22429874 148.6908003\n",
            " 120.28509946  89.56299989 112.22829988 117.19500045 118.70670134\n",
            "  87.96749941  94.09139988 116.84090032 118.45740197 120.16870048\n",
            " 126.67039766 121.9218995  151.16579989 165.59300048 118.53159969\n",
            " 120.1615011  149.80860085 118.35879941 172.78289937 105.49859934\n",
            " 104.97720131 148.75020063 113.82530064 124.69390128 147.58560001\n",
            " 119.63180118 115.40240067 112.77279997 113.50870203 140.60200054\n",
            " 117.73809767 102.94220037 115.86460121 103.69400173  99.08460028\n",
            " 117.57110078  90.72800023  91.61230022 153.68049929 102.6166995\n",
            " 154.40920038 114.35230165 138.83950154  90.14889818 115.53499931\n",
            " 114.10609949 122.77210033 121.78040045 165.44280087  92.84909942\n",
            " 135.03720076 121.42429941 120.92810043 104.74130003 143.28080273\n",
            " 122.19139928 116.5778003  113.45060089 127.3870966  122.95619935\n",
            " 125.74999929 121.31880034  86.80919866 132.56600167 143.47700287\n",
            "  92.63429959 159.10049892 158.25080208 126.28689928 165.19849932\n",
            " 108.84309966 109.71290049 103.66279842  94.26240066 127.87040275\n",
            " 106.90120065 160.55529946 121.66090039 131.9592999  130.9648018\n",
            " 159.9629005   90.22849857 175.24040185 127.67840034 126.76669809\n",
            "  86.44369933 124.57909983 150.85699747  89.64320003 107.12219975\n",
            " 108.99389993  84.67739921 136.25490045 154.74930224 138.21900319\n",
            "  73.50270067 152.31670185 126.13830011 126.79820019 127.58599911\n",
            " 108.70519962 156.24880061 114.48930121 117.04630143 125.54259934\n",
            " 154.04420117 121.26860013 156.35699923  92.98980063 125.54960159\n",
            " 125.60380033  87.84790043  92.0643992  126.28909931 128.44110404\n",
            " 113.15400081 117.69439722 121.01600003 127.3123971  119.50310085\n",
            " 136.1710013   94.00159941 119.85780045 112.97500116  94.32039937\n",
            " 108.76609971  86.7915992  109.26829947  89.62289981  92.49380031\n",
            " 131.74620389 162.50100047  89.64070001 119.44870101 133.44130181\n",
            " 123.87370025 128.22960171 101.89069852  89.02419861 131.38110037\n",
            " 119.6544003  108.26639983 167.57570057 115.47090071  86.57899891\n",
            " 118.62280059  91.00389972 161.76320033 116.6310003  121.50530018\n",
            " 160.11099758 120.13619933 112.6344997  108.40839854 126.73459986\n",
            "  75.98740044 102.90809975 127.80290263 121.8416991   92.5252999\n",
            " 132.55280101 118.06810091 116.28090007 154.56800241 159.48660095\n",
            " 109.96409948 155.49359812 119.214001   160.16070116 118.6594002\n",
            " 159.19340019 115.16209929 116.38340024 149.08919882 114.72630064\n",
            " 125.39079863 165.06149935 117.49819987 124.80479971 153.48960332\n",
            " 153.43060237 132.22659974 114.65390045 121.29780177 124.89530058\n",
            "  89.67590058 123.22259985 154.66420181 111.79000055 106.59559987\n",
            " 161.73830133 118.53179966 165.69799986 133.98350117 115.01319996\n",
            " 152.98679882 168.76699983 114.43159997 114.08910124 156.74619862\n",
            "  85.0457992  127.10550066 127.9187007  128.77070008 124.25900069\n",
            " 123.63870076  90.52070047 153.40760037  97.11339963 138.19319948\n",
            "  89.04969907 107.93770015 115.1774007  112.68100118 124.34139898\n",
            "  91.39379869 125.44880107 162.29799927 119.89829914 165.30290081\n",
            " 126.77449737 112.33600027 127.52179936  95.12039905  90.70310006\n",
            " 103.39059914 120.88350013  83.25879933 126.34440043 160.81020468\n",
            " 117.23540036 118.39419989 119.85500005 122.59639923 120.08180143\n",
            " 121.66250023 118.09990034 107.04489987 148.10069925 126.34119837\n",
            " 115.82340108  74.11530024 127.86030121 154.30790015 121.95400014\n",
            " 125.55340053  89.08250044 102.7545986  124.66360063 120.42579996\n",
            "  73.31370088 151.85589933 121.29360032 104.68889993  86.14359809\n",
            " 115.43209913 172.28209779 119.90330025 160.91229776 113.17249957\n",
            " 121.3328002  118.47880124  95.75679988 118.58590029 125.94160052\n",
            " 118.58749973  96.31500101 153.94620182 121.96540013 147.72179957\n",
            " 159.02660237 113.82960059 122.48279935 150.03679831 127.30020027\n",
            " 165.55440066 135.62400059 119.98089957 167.24229892 108.12059948\n",
            " 121.78189849 137.7083007  106.97669878]\n"
          ]
        }
      ]
    },
    {
      "cell_type": "code",
      "source": [
        "# R sqaure Error\n",
        "error_score = metrics.r2_score(test_data_prediction, Y_test)\n",
        "print(\"The r2 value for the model is:\", error_score)"
      ],
      "metadata": {
        "colab": {
          "base_uri": "https://localhost:8080/"
        },
        "id": "EZni1Eviuq21",
        "outputId": "db2be9c0-daa6-4212-c6db-8739a7974260"
      },
      "execution_count": 32,
      "outputs": [
        {
          "output_type": "stream",
          "name": "stdout",
          "text": [
            "The r2 value for the model is: 0.9888879184834868\n"
          ]
        }
      ]
    },
    {
      "cell_type": "markdown",
      "source": [
        "**Comparing the Actual Values and Predicted Values**"
      ],
      "metadata": {
        "id": "yW8EDPsuvFvl"
      }
    },
    {
      "cell_type": "code",
      "source": [
        "Y_test = list(Y_test)"
      ],
      "metadata": {
        "id": "_lyofT5uu2MY"
      },
      "execution_count": 35,
      "outputs": []
    },
    {
      "cell_type": "code",
      "source": [
        "plt.plot(Y_test, color = 'blue', label = 'Actual Value')\n",
        "plt.plot(test_data_prediction, color = 'green', label = 'Predicted Values')\n",
        "plt.title(\"Actual Values vs Predicted Values\")\n",
        "plt.xlabel(\"Number of values\")\n",
        "plt.ylabel('GLD Prices')\n",
        "plt.legend()\n",
        "plt.show()"
      ],
      "metadata": {
        "colab": {
          "base_uri": "https://localhost:8080/",
          "height": 295
        },
        "id": "QJ9kJVi6vXE_",
        "outputId": "c5f3af26-12fe-49d5-84e5-a2699efb826a"
      },
      "execution_count": 39,
      "outputs": [
        {
          "output_type": "display_data",
          "data": {
            "text/plain": [
              "<Figure size 432x288 with 1 Axes>"
            ],
            "image/png": "[encoded data removed]"
          },
          "metadata": {
            "needs_background": "light"
          }
        }
      ]
    },
    {
      "cell_type": "code",
      "source": [],
      "metadata": {
        "id": "tU24NUZ-viSg"
      },
      "execution_count": null,
      "outputs": []
    }
  ]
}